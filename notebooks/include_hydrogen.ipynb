{
 "cells": [
  {
   "cell_type": "code",
   "execution_count": 6,
   "metadata": {},
   "outputs": [
    {
     "data": {
      "text/plain": [
       "87733101.26564084"
      ]
     },
     "execution_count": 6,
     "metadata": {},
     "output_type": "execute_result"
    }
   ],
   "source": [
    "import pandas as pd\n",
    "import string\n",
    "import numpy as np\n",
    "import os\n",
    "from pathlib import Path\n",
    "\n",
    "data_file = Path.cwd().parent / \"data\" / 'FES 2023 Data Workbook V001.xlsx'\n",
    "\n",
    "scenario_mapper = {\n",
    "    \"CT\": \"Consumer Transformation\", \n",
    "    \"ST\": \"System Transformation\", \n",
    "    \"LW\": \"Leading the Way\", \n",
    "    \"FS\": \"Falling Short\",\n",
    "    }\n",
    "\n",
    "def get_industrial_hydrogen_demand(scenario, year):\n",
    "    \"\"\"Total yearly generation of industrial hydrogen\"\"\"\n",
    "\n",
    "    col = string.ascii_uppercase.index(\"M\")\n",
    "    df = (\n",
    "        pd.read_excel(data_file,\n",
    "            sheet_name=\"EC.17\",\n",
    "            header=6,\n",
    "            index_col=0,\n",
    "            nrows=4,\n",
    "            usecols=[col+i for i in range(32)],\n",
    "            )\n",
    "    )\n",
    "\n",
    "    df.columns = [pd.Timestamp(dt).year for dt in df.columns]\n",
    "    return df.loc[scenario_mapper[scenario], year] * 1e6\n",
    "\n",
    "\n",
    "\n",
    "get_industrial_hydrogen_demand(\"ST\", 2050)"
   ]
  },
  {
   "cell_type": "code",
   "execution_count": 7,
   "metadata": {},
   "outputs": [
    {
     "name": "stderr",
     "output_type": "stream",
     "text": [
      "WARNING:pypsa.io:Importing network from PyPSA version v0.25.1 while current version is v0.25.2. Read the release notes at https://pypsa.readthedocs.io/en/latest/release_notes.html to prepare your network for import.\n",
      "INFO:pypsa.io:Imported network elec_s_ec_lv1.5__bev-heat-ss_LW_2050.nc has buses, carriers, generators, global_constraints, lines, links, loads, storage_units, stores\n"
     ]
    }
   ],
   "source": [
    "import pypsa\n",
    "\n",
    "n = pypsa.Network(Path.cwd().parent / \"resources\" / \"pypsa-fes\" / \"networks\" / \"elec_s_ec_lv1.5__bev-heat-ss_LW_2050.nc\")"
   ]
  },
  {
   "cell_type": "code",
   "execution_count": null,
   "metadata": {},
   "outputs": [],
   "source": []
  }
 ],
 "metadata": {
  "kernelspec": {
   "display_name": "Python 3",
   "language": "python",
   "name": "python3"
  },
  "language_info": {
   "codemirror_mode": {
    "name": "ipython",
    "version": 3
   },
   "file_extension": ".py",
   "mimetype": "text/x-python",
   "name": "python",
   "nbconvert_exporter": "python",
   "pygments_lexer": "ipython3",
   "version": "3.10.12"
  }
 },
 "nbformat": 4,
 "nbformat_minor": 2
}
