{
 "cells": [
  {
   "cell_type": "code",
   "execution_count": 16,
   "metadata": {},
   "outputs": [
    {
     "name": "stdout",
     "output_type": "stream",
     "text": [
      "                             2022       2023       2024       2025       2026  \\\n",
      "Consumer Transformation  31.91774  32.775736  34.603368  37.135042  39.574521   \n",
      "System Transformation    31.91774  32.400937  33.595083  34.928947  36.262167   \n",
      "Leading the Way          31.91774  33.805428  36.228724  39.391208  42.341785   \n",
      "Falling Short            31.91774  32.877006  33.684577  34.370843  35.083741   \n",
      "\n",
      "                              2027       2028       2029       2030  \\\n",
      "Consumer Transformation  42.046268  44.390456  47.015257  49.937846   \n",
      "System Transformation    37.725927  39.020917  40.591371  42.655732   \n",
      "Leading the Way          45.702341  48.977478  52.504994  55.011681   \n",
      "Falling Short            35.769391  36.571907  37.496379  38.650723   \n",
      "\n",
      "                              2031  ...       2041        2042        2043  \\\n",
      "Consumer Transformation  53.072279  ...  80.659711   83.928235   87.477583   \n",
      "System Transformation    44.955182  ...  61.253916   63.022853   64.928122   \n",
      "Leading the Way          59.041640  ...  95.818126  100.440234  105.127154   \n",
      "Falling Short            40.283173  ...  50.577147   51.587130   52.579343   \n",
      "\n",
      "                               2044        2045        2046        2047  \\\n",
      "Consumer Transformation   90.873454   94.280559   97.310492   99.655943   \n",
      "System Transformation     66.749385   68.549959   70.293861   71.979813   \n",
      "Leading the Way          108.155296  110.595274  112.713556  114.570923   \n",
      "Falling Short             53.701559   54.893256   56.085347   57.380683   \n",
      "\n",
      "                               2048        2049        2050  \n",
      "Consumer Transformation  101.734241  103.883683  105.956190  \n",
      "System Transformation     73.618302   75.243393   76.869817  \n",
      "Leading the Way          116.331928  118.142667  119.905121  \n",
      "Falling Short             58.644400   59.655626   60.588825  \n",
      "\n",
      "[4 rows x 29 columns]\n"
     ]
    },
    {
     "data": {
      "text/plain": [
       "31917.739999999994"
      ]
     },
     "execution_count": 16,
     "metadata": {},
     "output_type": "execute_result"
    }
   ],
   "source": [
    "import pandas as pd\n",
    "import string\n",
    "import numpy as np\n",
    "import os\n",
    "from pathlib import Path\n",
    "\n",
    "data_file = Path.cwd().parent / \"data\" / 'FES 2023 Data Workbook V001.xlsx'\n",
    "\n",
    "scenario_mapper = {\n",
    "    \"CT\": \"Consumer Transformation\", \n",
    "    \"ST\": \"System Transformation\", \n",
    "    \"LW\": \"Leading the Way\", \n",
    "    \"FS\": \"Falling Short\",\n",
    "    }\n",
    "\n",
    "def get_distributed_generation(scenario, year):\n",
    "    \"\"\"Get reference and future value for commercial elecitricity demand\"\"\"\n",
    "\n",
    "    col = string.ascii_uppercase.index(\"N\")\n",
    "    df = (\n",
    "        pd.read_excel(data_file,\n",
    "            sheet_name=\"ES.22\",\n",
    "            header=6,\n",
    "            index_col=0,\n",
    "            nrows=4,\n",
    "            usecols=[col+i for i in range(30)],\n",
    "            )\n",
    "    )\n",
    "\n",
    "    df.columns = [pd.Timestamp(dt).year for dt in df.columns]\n",
    "    return df.loc[scenario_mapper[scenario], year] * 1e3\n",
    "\n",
    "get_distributed_generation(\"LW\", 2022)"
   ]
  },
  {
   "cell_type": "code",
   "execution_count": 43,
   "metadata": {},
   "outputs": [
    {
     "name": "stdout",
     "output_type": "stream",
     "text": [
      "                     Unnamed: 12 Unnamed: 13  Unnamed: 14         CT  \\\n",
      "Unnamed: 12                                                            \n",
      "Direct electric  Direct electric     2358311          NaN  2060042.0   \n",
      "GSHP                        GSHP       61519          NaN  3488393.0   \n",
      "ASHP                        ASHP      192862          NaN  7053537.0   \n",
      "\n",
      "                        ST         LW         FS  Unnamed: 19        CT.1  \\\n",
      "Unnamed: 12                                                                 \n",
      "Direct electric  1862382.0  1988387.0  1908289.0          NaN   1737630.0   \n",
      "GSHP              643392.0  3500018.0   613089.0          NaN   8835201.0   \n",
      "ASHP             1331053.0  8420552.0  2578076.0          NaN  14458394.0   \n",
      "\n",
      "                      ST.1        LW.1       FS.1  Unnamed: 25  Unnamed: 26  \n",
      "Unnamed: 12                                                                  \n",
      "Direct electric   757939.0   1744680.0  1754150.0          NaN          NaN  \n",
      "GSHP             1058774.0   7115109.0  3941553.0          NaN          NaN  \n",
      "ASHP             5954787.0  10806501.0  9212099.0          NaN          NaN  \n",
      "Index(['Direct electric', 'GSHP', 'ASHP'], dtype='object', name='Unnamed: 12')\n",
      "Unnamed: 12\n",
      "Direct electric    2358311\n",
      "GSHP                 61519\n",
      "ASHP                192862\n",
      "Name: Unnamed: 13, dtype: object\n",
      "Unnamed: 12\n",
      "Direct electric    1908289.0\n",
      "GSHP                613089.0\n",
      "ASHP               2578076.0\n",
      "Name: FS, dtype: float64\n"
     ]
    },
    {
     "data": {
      "text/plain": [
       "Direct electric    1908289.0\n",
       "GSHP                613089.0\n",
       "ASHP               2578076.0\n",
       "dtype: float64"
      ]
     },
     "execution_count": 43,
     "metadata": {},
     "output_type": "execute_result"
    }
   ],
   "source": [
    "import numpy as np\n",
    "import pandas as pd\n",
    "import matplotlib.pyplot as plt\n",
    "from pathlib import Path\n",
    "import string\n",
    "\n",
    "scenario_mapper = {\n",
    "    \"CT\": \"Consumer Transformation\", \n",
    "    \"ST\": \"System Transformation\", \n",
    "    \"LW\": \"Leading the Way\", \n",
    "    \"FS\": \"Falling Short\",\n",
    "    }\n",
    "\n",
    "\n",
    "path = Path.cwd().parent / \"data\" / 'FES 2023 Data Workbook V001.xlsx'\n",
    "\n",
    "def get_heating_shares(year, scenario):\n",
    "    \"\"\"Get reference and future value for commercial elecitricity demand\"\"\"\n",
    "\n",
    "    col = string.ascii_uppercase.index(\"M\")\n",
    "\n",
    "    df = pd.read_excel(\n",
    "        path,\n",
    "        sheet_name=\"EC.E\",\n",
    "        header=7,\n",
    "        index_col=col,\n",
    "        usecols=list(range(col, col+15)),\n",
    "        ).iloc[1:4]\n",
    "    df.index = df.iloc[:,0]\n",
    "\n",
    "    df_2021 = df.iloc[:,1]    \n",
    "\n",
    "    df_2035 = (\n",
    "        df.iloc[:,3:7]\n",
    "        [scenario]\n",
    "    )\n",
    "    df_2050 = (\n",
    "        df.iloc[:,8:12]\n",
    "        [scenario+'.1']\n",
    "    )\n",
    "\n",
    "    get_val = lambda tech: np.interp(\n",
    "        year,\n",
    "        [2021, 2035, 2050],\n",
    "        [df_2021.loc[tech], df_2035.loc[tech], df_2050.loc[tech]]\n",
    "    )\n",
    "\n",
    "    print(df_2035)\n",
    "    return pd.Series({tech: get_val(tech) for tech in df_2035.index})\n",
    "\n",
    "\n",
    "get_heating_shares(2035, \"FS\")"
   ]
  }
 ],
 "metadata": {
  "kernelspec": {
   "display_name": "Python 3",
   "language": "python",
   "name": "python3"
  },
  "language_info": {
   "codemirror_mode": {
    "name": "ipython",
    "version": 3
   },
   "file_extension": ".py",
   "mimetype": "text/x-python",
   "name": "python",
   "nbconvert_exporter": "python",
   "pygments_lexer": "ipython3",
   "version": "3.10.12"
  }
 },
 "nbformat": 4,
 "nbformat_minor": 2
}
